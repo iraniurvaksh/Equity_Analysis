{
 "cells": [
  {
   "cell_type": "markdown",
   "id": "daaf8047",
   "metadata": {},
   "source": [
    "importing libraries"
   ]
  },
  {
   "cell_type": "code",
   "execution_count": 32,
   "id": "0daa23e0",
   "metadata": {},
   "outputs": [],
   "source": [
    "import pandas as pd\n",
    "import numpy as np\n",
    "import sklearn\n",
    "import datetime as dt"
   ]
  },
  {
   "cell_type": "markdown",
   "id": "cc82a930",
   "metadata": {},
   "source": [
    "Reading in the data"
   ]
  },
  {
   "cell_type": "code",
   "execution_count": 33,
   "id": "a4df16be",
   "metadata": {},
   "outputs": [],
   "source": [
    "aal = pd.read_csv(\"AAL.csv\")\n",
    "pfe = pd.read_csv(\"PFE.csv\")\n",
    "rds = pd.read_csv(\"RDS-A.csv\")\n",
    "sp = pd.read_csv(\"SP500.csv\")\n",
    "tsla = pd.read_csv(\"tsla.csv\")\n",
    "wmt = pd.read_csv(\"WMT.csv\")"
   ]
  },
  {
   "cell_type": "markdown",
   "id": "ddf2d13d",
   "metadata": {},
   "source": [
    "Dates are correct. Verified for each '2019-01-02' to '2019-12-31'"
   ]
  },
  {
   "cell_type": "code",
   "execution_count": 34,
   "id": "33b85a68",
   "metadata": {},
   "outputs": [
    {
     "data": {
      "text/plain": [
       "'2019-01-02'"
      ]
     },
     "execution_count": 34,
     "metadata": {},
     "output_type": "execute_result"
    }
   ],
   "source": [
    "tsla[\"Date\"].min()"
   ]
  },
  {
   "cell_type": "code",
   "execution_count": 4,
   "id": "d7fa98c8",
   "metadata": {},
   "outputs": [
    {
     "data": {
      "text/plain": [
       "'2019-12-31'"
      ]
     },
     "execution_count": 4,
     "metadata": {},
     "output_type": "execute_result"
    }
   ],
   "source": [
    "tsla[\"Date\"].max()"
   ]
  },
  {
   "cell_type": "markdown",
   "id": "d97b02bb",
   "metadata": {},
   "source": [
    "segmenting the data only for adj close"
   ]
  },
  {
   "cell_type": "code",
   "execution_count": 35,
   "id": "319f5507",
   "metadata": {},
   "outputs": [],
   "source": [
    "a = aal[[\"Date\",\"Adj Close\"]]\n",
    "p = pfe[[\"Date\",\"Adj Close\"]]\n",
    "r = rds[[\"Date\",\"Adj Close\"]]\n",
    "s = sp[[\"Date\",\"Adj Close\"]]\n",
    "t = tsla[[\"Date\",\"Adj Close\"]]\n",
    "w = wmt[[\"Date\",\"Adj Close\"]]"
   ]
  },
  {
   "cell_type": "markdown",
   "id": "b1c8bd26",
   "metadata": {},
   "source": [
    "renaming adj close to respective stock"
   ]
  },
  {
   "cell_type": "code",
   "execution_count": 36,
   "id": "0b6b039e",
   "metadata": {},
   "outputs": [
    {
     "name": "stderr",
     "output_type": "stream",
     "text": [
      "C:\\Users\\urvaksh\\anaconda3\\lib\\site-packages\\pandas\\core\\frame.py:4441: SettingWithCopyWarning: \n",
      "A value is trying to be set on a copy of a slice from a DataFrame\n",
      "\n",
      "See the caveats in the documentation: https://pandas.pydata.org/pandas-docs/stable/user_guide/indexing.html#returning-a-view-versus-a-copy\n",
      "  return super().rename(\n"
     ]
    }
   ],
   "source": [
    "a.rename(columns={\"Adj Close\":\"aal\"},inplace=True)\n",
    "p.rename(columns={\"Adj Close\":\"pfe\"},inplace=True)\n",
    "r.rename(columns={\"Adj Close\":\"rds\"},inplace=True)\n",
    "s.rename(columns={\"Adj Close\":\"sp\"},inplace=True)\n",
    "t.rename(columns={\"Adj Close\":\"tsla\"},inplace=True)\n",
    "w.rename(columns={\"Adj Close\":\"wmt\"},inplace=True)"
   ]
  },
  {
   "cell_type": "markdown",
   "id": "9435d75b",
   "metadata": {},
   "source": [
    "Combining the data sets"
   ]
  },
  {
   "cell_type": "code",
   "execution_count": 37,
   "id": "7f3c9647",
   "metadata": {},
   "outputs": [],
   "source": [
    "data = [a,p,r,s,t,w]"
   ]
  },
  {
   "cell_type": "code",
   "execution_count": 38,
   "id": "5662b0a3",
   "metadata": {},
   "outputs": [],
   "source": [
    "from functools import reduce\n",
    "data = reduce(lambda  left,right: pd.merge(left,right,on=['Date'],\n",
    "                                            how='inner'), data)\n"
   ]
  },
  {
   "cell_type": "code",
   "execution_count": 39,
   "id": "54bcedea",
   "metadata": {},
   "outputs": [
    {
     "data": {
      "text/html": [
       "<div>\n",
       "<style scoped>\n",
       "    .dataframe tbody tr th:only-of-type {\n",
       "        vertical-align: middle;\n",
       "    }\n",
       "\n",
       "    .dataframe tbody tr th {\n",
       "        vertical-align: top;\n",
       "    }\n",
       "\n",
       "    .dataframe thead th {\n",
       "        text-align: right;\n",
       "    }\n",
       "</style>\n",
       "<table border=\"1\" class=\"dataframe\">\n",
       "  <thead>\n",
       "    <tr style=\"text-align: right;\">\n",
       "      <th></th>\n",
       "      <th>Date</th>\n",
       "      <th>aal</th>\n",
       "      <th>pfe</th>\n",
       "      <th>rds</th>\n",
       "      <th>sp</th>\n",
       "      <th>tsla</th>\n",
       "      <th>wmt</th>\n",
       "    </tr>\n",
       "  </thead>\n",
       "  <tbody>\n",
       "    <tr>\n",
       "      <th>0</th>\n",
       "      <td>2019-01-02</td>\n",
       "      <td>31.963161</td>\n",
       "      <td>36.581043</td>\n",
       "      <td>57.608135</td>\n",
       "      <td>2510.03</td>\n",
       "      <td>62.023998</td>\n",
       "      <td>88.933044</td>\n",
       "    </tr>\n",
       "    <tr>\n",
       "      <th>1</th>\n",
       "      <td>2019-01-03</td>\n",
       "      <td>29.581667</td>\n",
       "      <td>35.557625</td>\n",
       "      <td>57.481926</td>\n",
       "      <td>2447.89</td>\n",
       "      <td>60.071999</td>\n",
       "      <td>88.475723</td>\n",
       "    </tr>\n",
       "    <tr>\n",
       "      <th>2</th>\n",
       "      <td>2019-01-04</td>\n",
       "      <td>31.530159</td>\n",
       "      <td>36.369591</td>\n",
       "      <td>58.782818</td>\n",
       "      <td>2531.94</td>\n",
       "      <td>63.537998</td>\n",
       "      <td>89.028336</td>\n",
       "    </tr>\n",
       "    <tr>\n",
       "      <th>3</th>\n",
       "      <td>2019-01-07</td>\n",
       "      <td>32.425682</td>\n",
       "      <td>36.564133</td>\n",
       "      <td>58.860485</td>\n",
       "      <td>2549.69</td>\n",
       "      <td>66.991997</td>\n",
       "      <td>90.076393</td>\n",
       "    </tr>\n",
       "    <tr>\n",
       "      <th>4</th>\n",
       "      <td>2019-01-08</td>\n",
       "      <td>31.904110</td>\n",
       "      <td>36.733288</td>\n",
       "      <td>58.501282</td>\n",
       "      <td>2574.41</td>\n",
       "      <td>67.070000</td>\n",
       "      <td>90.705231</td>\n",
       "    </tr>\n",
       "    <tr>\n",
       "      <th>...</th>\n",
       "      <td>...</td>\n",
       "      <td>...</td>\n",
       "      <td>...</td>\n",
       "      <td>...</td>\n",
       "      <td>...</td>\n",
       "      <td>...</td>\n",
       "      <td>...</td>\n",
       "    </tr>\n",
       "    <tr>\n",
       "      <th>247</th>\n",
       "      <td>2019-12-24</td>\n",
       "      <td>29.072563</td>\n",
       "      <td>34.465500</td>\n",
       "      <td>58.700001</td>\n",
       "      <td>3223.38</td>\n",
       "      <td>85.050003</td>\n",
       "      <td>116.173569</td>\n",
       "    </tr>\n",
       "    <tr>\n",
       "      <th>248</th>\n",
       "      <td>2019-12-26</td>\n",
       "      <td>29.560759</td>\n",
       "      <td>34.544449</td>\n",
       "      <td>58.869999</td>\n",
       "      <td>3239.91</td>\n",
       "      <td>86.188004</td>\n",
       "      <td>116.183289</td>\n",
       "    </tr>\n",
       "    <tr>\n",
       "      <th>249</th>\n",
       "      <td>2019-12-27</td>\n",
       "      <td>28.335287</td>\n",
       "      <td>34.491821</td>\n",
       "      <td>59.090000</td>\n",
       "      <td>3240.02</td>\n",
       "      <td>86.075996</td>\n",
       "      <td>116.251328</td>\n",
       "    </tr>\n",
       "    <tr>\n",
       "      <th>250</th>\n",
       "      <td>2019-12-30</td>\n",
       "      <td>28.195801</td>\n",
       "      <td>34.132160</td>\n",
       "      <td>58.680000</td>\n",
       "      <td>3221.29</td>\n",
       "      <td>82.940002</td>\n",
       "      <td>116.066643</td>\n",
       "    </tr>\n",
       "    <tr>\n",
       "      <th>251</th>\n",
       "      <td>2019-12-31</td>\n",
       "      <td>28.574404</td>\n",
       "      <td>34.369015</td>\n",
       "      <td>58.980000</td>\n",
       "      <td>3230.78</td>\n",
       "      <td>83.666000</td>\n",
       "      <td>115.522278</td>\n",
       "    </tr>\n",
       "  </tbody>\n",
       "</table>\n",
       "<p>252 rows × 7 columns</p>\n",
       "</div>"
      ],
      "text/plain": [
       "           Date        aal        pfe        rds       sp       tsla  \\\n",
       "0    2019-01-02  31.963161  36.581043  57.608135  2510.03  62.023998   \n",
       "1    2019-01-03  29.581667  35.557625  57.481926  2447.89  60.071999   \n",
       "2    2019-01-04  31.530159  36.369591  58.782818  2531.94  63.537998   \n",
       "3    2019-01-07  32.425682  36.564133  58.860485  2549.69  66.991997   \n",
       "4    2019-01-08  31.904110  36.733288  58.501282  2574.41  67.070000   \n",
       "..          ...        ...        ...        ...      ...        ...   \n",
       "247  2019-12-24  29.072563  34.465500  58.700001  3223.38  85.050003   \n",
       "248  2019-12-26  29.560759  34.544449  58.869999  3239.91  86.188004   \n",
       "249  2019-12-27  28.335287  34.491821  59.090000  3240.02  86.075996   \n",
       "250  2019-12-30  28.195801  34.132160  58.680000  3221.29  82.940002   \n",
       "251  2019-12-31  28.574404  34.369015  58.980000  3230.78  83.666000   \n",
       "\n",
       "            wmt  \n",
       "0     88.933044  \n",
       "1     88.475723  \n",
       "2     89.028336  \n",
       "3     90.076393  \n",
       "4     90.705231  \n",
       "..          ...  \n",
       "247  116.173569  \n",
       "248  116.183289  \n",
       "249  116.251328  \n",
       "250  116.066643  \n",
       "251  115.522278  \n",
       "\n",
       "[252 rows x 7 columns]"
      ]
     },
     "execution_count": 39,
     "metadata": {},
     "output_type": "execute_result"
    }
   ],
   "source": [
    "data"
   ]
  },
  {
   "cell_type": "markdown",
   "id": "c6337abe",
   "metadata": {},
   "source": [
    "First 5 rows for assets and total counts"
   ]
  },
  {
   "cell_type": "code",
   "execution_count": 41,
   "id": "ff883d61",
   "metadata": {},
   "outputs": [
    {
     "data": {
      "text/html": [
       "<div>\n",
       "<style scoped>\n",
       "    .dataframe tbody tr th:only-of-type {\n",
       "        vertical-align: middle;\n",
       "    }\n",
       "\n",
       "    .dataframe tbody tr th {\n",
       "        vertical-align: top;\n",
       "    }\n",
       "\n",
       "    .dataframe thead th {\n",
       "        text-align: right;\n",
       "    }\n",
       "</style>\n",
       "<table border=\"1\" class=\"dataframe\">\n",
       "  <thead>\n",
       "    <tr style=\"text-align: right;\">\n",
       "      <th></th>\n",
       "      <th>aal</th>\n",
       "      <th>pfe</th>\n",
       "      <th>rds</th>\n",
       "      <th>tsla</th>\n",
       "      <th>wmt</th>\n",
       "    </tr>\n",
       "  </thead>\n",
       "  <tbody>\n",
       "    <tr>\n",
       "      <th>0</th>\n",
       "      <td>31.963161</td>\n",
       "      <td>36.581043</td>\n",
       "      <td>57.608135</td>\n",
       "      <td>62.023998</td>\n",
       "      <td>88.933044</td>\n",
       "    </tr>\n",
       "    <tr>\n",
       "      <th>1</th>\n",
       "      <td>29.581667</td>\n",
       "      <td>35.557625</td>\n",
       "      <td>57.481926</td>\n",
       "      <td>60.071999</td>\n",
       "      <td>88.475723</td>\n",
       "    </tr>\n",
       "    <tr>\n",
       "      <th>2</th>\n",
       "      <td>31.530159</td>\n",
       "      <td>36.369591</td>\n",
       "      <td>58.782818</td>\n",
       "      <td>63.537998</td>\n",
       "      <td>89.028336</td>\n",
       "    </tr>\n",
       "    <tr>\n",
       "      <th>3</th>\n",
       "      <td>32.425682</td>\n",
       "      <td>36.564133</td>\n",
       "      <td>58.860485</td>\n",
       "      <td>66.991997</td>\n",
       "      <td>90.076393</td>\n",
       "    </tr>\n",
       "    <tr>\n",
       "      <th>4</th>\n",
       "      <td>31.904110</td>\n",
       "      <td>36.733288</td>\n",
       "      <td>58.501282</td>\n",
       "      <td>67.070000</td>\n",
       "      <td>90.705231</td>\n",
       "    </tr>\n",
       "  </tbody>\n",
       "</table>\n",
       "</div>"
      ],
      "text/plain": [
       "         aal        pfe        rds       tsla        wmt\n",
       "0  31.963161  36.581043  57.608135  62.023998  88.933044\n",
       "1  29.581667  35.557625  57.481926  60.071999  88.475723\n",
       "2  31.530159  36.369591  58.782818  63.537998  89.028336\n",
       "3  32.425682  36.564133  58.860485  66.991997  90.076393\n",
       "4  31.904110  36.733288  58.501282  67.070000  90.705231"
      ]
     },
     "execution_count": 41,
     "metadata": {},
     "output_type": "execute_result"
    }
   ],
   "source": [
    "data[[\"aal\",\"pfe\",\"rds\",\"tsla\",\"wmt\"]].head()"
   ]
  },
  {
   "cell_type": "code",
   "execution_count": 42,
   "id": "5c697db3",
   "metadata": {},
   "outputs": [
    {
     "data": {
      "text/plain": [
       "252"
      ]
     },
     "execution_count": 42,
     "metadata": {},
     "output_type": "execute_result"
    }
   ],
   "source": [
    "len(data[[\"aal\",\"pfe\",\"rds\",\"tsla\",\"wmt\"]]) ## 252 rows"
   ]
  },
  {
   "cell_type": "code",
   "execution_count": 43,
   "id": "dfbf27e7",
   "metadata": {},
   "outputs": [
    {
     "data": {
      "text/plain": [
       "0    2510.03\n",
       "1    2447.89\n",
       "2    2531.94\n",
       "3    2549.69\n",
       "4    2574.41\n",
       "Name: sp, dtype: float64"
      ]
     },
     "execution_count": 43,
     "metadata": {},
     "output_type": "execute_result"
    }
   ],
   "source": [
    "data[\"sp\"].head()"
   ]
  },
  {
   "cell_type": "code",
   "execution_count": 44,
   "id": "b0db8858",
   "metadata": {},
   "outputs": [
    {
     "data": {
      "text/plain": [
       "252"
      ]
     },
     "execution_count": 44,
     "metadata": {},
     "output_type": "execute_result"
    }
   ],
   "source": [
    "len(data[\"sp\"])##252 rows "
   ]
  },
  {
   "cell_type": "markdown",
   "id": "f52fe651",
   "metadata": {},
   "source": [
    "function for calculating daily % change"
   ]
  },
  {
   "cell_type": "markdown",
   "id": "d88aab24",
   "metadata": {},
   "source": [
    "pct_change easiest way to find the change or we could develop a function, but it already provided\n",
    "1 is used for the one year"
   ]
  },
  {
   "cell_type": "markdown",
   "id": "328a976d",
   "metadata": {},
   "source": [
    "Finding the pct change for each respective column and making new columns"
   ]
  },
  {
   "cell_type": "code",
   "execution_count": 45,
   "id": "25fd1574",
   "metadata": {},
   "outputs": [
    {
     "data": {
      "text/html": [
       "<div>\n",
       "<style scoped>\n",
       "    .dataframe tbody tr th:only-of-type {\n",
       "        vertical-align: middle;\n",
       "    }\n",
       "\n",
       "    .dataframe tbody tr th {\n",
       "        vertical-align: top;\n",
       "    }\n",
       "\n",
       "    .dataframe thead th {\n",
       "        text-align: right;\n",
       "    }\n",
       "</style>\n",
       "<table border=\"1\" class=\"dataframe\">\n",
       "  <thead>\n",
       "    <tr style=\"text-align: right;\">\n",
       "      <th></th>\n",
       "      <th>aal</th>\n",
       "      <th>pfe</th>\n",
       "      <th>rds</th>\n",
       "      <th>sp</th>\n",
       "      <th>tsla</th>\n",
       "      <th>wmt</th>\n",
       "    </tr>\n",
       "    <tr>\n",
       "      <th>Date</th>\n",
       "      <th></th>\n",
       "      <th></th>\n",
       "      <th></th>\n",
       "      <th></th>\n",
       "      <th></th>\n",
       "      <th></th>\n",
       "    </tr>\n",
       "  </thead>\n",
       "  <tbody>\n",
       "    <tr>\n",
       "      <th>2019-01-02</th>\n",
       "      <td>31.963161</td>\n",
       "      <td>36.581043</td>\n",
       "      <td>57.608135</td>\n",
       "      <td>2510.03</td>\n",
       "      <td>62.023998</td>\n",
       "      <td>88.933044</td>\n",
       "    </tr>\n",
       "    <tr>\n",
       "      <th>2019-01-03</th>\n",
       "      <td>29.581667</td>\n",
       "      <td>35.557625</td>\n",
       "      <td>57.481926</td>\n",
       "      <td>2447.89</td>\n",
       "      <td>60.071999</td>\n",
       "      <td>88.475723</td>\n",
       "    </tr>\n",
       "    <tr>\n",
       "      <th>2019-01-04</th>\n",
       "      <td>31.530159</td>\n",
       "      <td>36.369591</td>\n",
       "      <td>58.782818</td>\n",
       "      <td>2531.94</td>\n",
       "      <td>63.537998</td>\n",
       "      <td>89.028336</td>\n",
       "    </tr>\n",
       "    <tr>\n",
       "      <th>2019-01-07</th>\n",
       "      <td>32.425682</td>\n",
       "      <td>36.564133</td>\n",
       "      <td>58.860485</td>\n",
       "      <td>2549.69</td>\n",
       "      <td>66.991997</td>\n",
       "      <td>90.076393</td>\n",
       "    </tr>\n",
       "    <tr>\n",
       "      <th>2019-01-08</th>\n",
       "      <td>31.904110</td>\n",
       "      <td>36.733288</td>\n",
       "      <td>58.501282</td>\n",
       "      <td>2574.41</td>\n",
       "      <td>67.070000</td>\n",
       "      <td>90.705231</td>\n",
       "    </tr>\n",
       "    <tr>\n",
       "      <th>...</th>\n",
       "      <td>...</td>\n",
       "      <td>...</td>\n",
       "      <td>...</td>\n",
       "      <td>...</td>\n",
       "      <td>...</td>\n",
       "      <td>...</td>\n",
       "    </tr>\n",
       "    <tr>\n",
       "      <th>2019-12-24</th>\n",
       "      <td>29.072563</td>\n",
       "      <td>34.465500</td>\n",
       "      <td>58.700001</td>\n",
       "      <td>3223.38</td>\n",
       "      <td>85.050003</td>\n",
       "      <td>116.173569</td>\n",
       "    </tr>\n",
       "    <tr>\n",
       "      <th>2019-12-26</th>\n",
       "      <td>29.560759</td>\n",
       "      <td>34.544449</td>\n",
       "      <td>58.869999</td>\n",
       "      <td>3239.91</td>\n",
       "      <td>86.188004</td>\n",
       "      <td>116.183289</td>\n",
       "    </tr>\n",
       "    <tr>\n",
       "      <th>2019-12-27</th>\n",
       "      <td>28.335287</td>\n",
       "      <td>34.491821</td>\n",
       "      <td>59.090000</td>\n",
       "      <td>3240.02</td>\n",
       "      <td>86.075996</td>\n",
       "      <td>116.251328</td>\n",
       "    </tr>\n",
       "    <tr>\n",
       "      <th>2019-12-30</th>\n",
       "      <td>28.195801</td>\n",
       "      <td>34.132160</td>\n",
       "      <td>58.680000</td>\n",
       "      <td>3221.29</td>\n",
       "      <td>82.940002</td>\n",
       "      <td>116.066643</td>\n",
       "    </tr>\n",
       "    <tr>\n",
       "      <th>2019-12-31</th>\n",
       "      <td>28.574404</td>\n",
       "      <td>34.369015</td>\n",
       "      <td>58.980000</td>\n",
       "      <td>3230.78</td>\n",
       "      <td>83.666000</td>\n",
       "      <td>115.522278</td>\n",
       "    </tr>\n",
       "  </tbody>\n",
       "</table>\n",
       "<p>252 rows × 6 columns</p>\n",
       "</div>"
      ],
      "text/plain": [
       "                  aal        pfe        rds       sp       tsla         wmt\n",
       "Date                                                                       \n",
       "2019-01-02  31.963161  36.581043  57.608135  2510.03  62.023998   88.933044\n",
       "2019-01-03  29.581667  35.557625  57.481926  2447.89  60.071999   88.475723\n",
       "2019-01-04  31.530159  36.369591  58.782818  2531.94  63.537998   89.028336\n",
       "2019-01-07  32.425682  36.564133  58.860485  2549.69  66.991997   90.076393\n",
       "2019-01-08  31.904110  36.733288  58.501282  2574.41  67.070000   90.705231\n",
       "...               ...        ...        ...      ...        ...         ...\n",
       "2019-12-24  29.072563  34.465500  58.700001  3223.38  85.050003  116.173569\n",
       "2019-12-26  29.560759  34.544449  58.869999  3239.91  86.188004  116.183289\n",
       "2019-12-27  28.335287  34.491821  59.090000  3240.02  86.075996  116.251328\n",
       "2019-12-30  28.195801  34.132160  58.680000  3221.29  82.940002  116.066643\n",
       "2019-12-31  28.574404  34.369015  58.980000  3230.78  83.666000  115.522278\n",
       "\n",
       "[252 rows x 6 columns]"
      ]
     },
     "execution_count": 45,
     "metadata": {},
     "output_type": "execute_result"
    }
   ],
   "source": [
    "data.set_index(\"Date\")"
   ]
  },
  {
   "cell_type": "markdown",
   "id": "501e1d48",
   "metadata": {},
   "source": [
    "There are no nulls we will get a nan for the first row since no prior day"
   ]
  },
  {
   "cell_type": "code",
   "execution_count": 46,
   "id": "1f4a0a9d",
   "metadata": {},
   "outputs": [
    {
     "data": {
      "text/plain": [
       "0"
      ]
     },
     "execution_count": 46,
     "metadata": {},
     "output_type": "execute_result"
    }
   ],
   "source": [
    "data[\"sp\"].isnull().sum()"
   ]
  },
  {
   "cell_type": "code",
   "execution_count": 16,
   "id": "0859d34b",
   "metadata": {},
   "outputs": [],
   "source": [
    "data[\"aal_change\"] = data[\"aal\"].pct_change(1)\n",
    "data[\"pfe_change\"] = data[\"pfe\"].pct_change(1)\n",
    "data[\"rds_change\"] = data[\"rds\"].pct_change(1)\n",
    "data[\"tsla_change\"] = data[\"tsla\"].pct_change(1)\n",
    "data[\"wmt_change\"] = data[\"wmt\"].pct_change(1)\n",
    "data[\"sp_change\"] = data[\"sp\"].pct_change(1)\n"
   ]
  },
  {
   "cell_type": "markdown",
   "id": "5f854409",
   "metadata": {},
   "source": [
    "new data"
   ]
  },
  {
   "cell_type": "code",
   "execution_count": 17,
   "id": "6b31b7ee",
   "metadata": {},
   "outputs": [
    {
     "data": {
      "text/html": [
       "<div>\n",
       "<style scoped>\n",
       "    .dataframe tbody tr th:only-of-type {\n",
       "        vertical-align: middle;\n",
       "    }\n",
       "\n",
       "    .dataframe tbody tr th {\n",
       "        vertical-align: top;\n",
       "    }\n",
       "\n",
       "    .dataframe thead th {\n",
       "        text-align: right;\n",
       "    }\n",
       "</style>\n",
       "<table border=\"1\" class=\"dataframe\">\n",
       "  <thead>\n",
       "    <tr style=\"text-align: right;\">\n",
       "      <th></th>\n",
       "      <th>Date</th>\n",
       "      <th>aal</th>\n",
       "      <th>pfe</th>\n",
       "      <th>rds</th>\n",
       "      <th>sp</th>\n",
       "      <th>tsla</th>\n",
       "      <th>wmt</th>\n",
       "      <th>aal_change</th>\n",
       "      <th>pfe_change</th>\n",
       "      <th>rds_change</th>\n",
       "      <th>tsla_change</th>\n",
       "      <th>wmt_change</th>\n",
       "      <th>sp_change</th>\n",
       "    </tr>\n",
       "  </thead>\n",
       "  <tbody>\n",
       "    <tr>\n",
       "      <th>0</th>\n",
       "      <td>2019-01-02</td>\n",
       "      <td>31.963161</td>\n",
       "      <td>36.581043</td>\n",
       "      <td>57.608135</td>\n",
       "      <td>2510.03</td>\n",
       "      <td>62.023998</td>\n",
       "      <td>88.933044</td>\n",
       "      <td>NaN</td>\n",
       "      <td>NaN</td>\n",
       "      <td>NaN</td>\n",
       "      <td>NaN</td>\n",
       "      <td>NaN</td>\n",
       "      <td>NaN</td>\n",
       "    </tr>\n",
       "    <tr>\n",
       "      <th>1</th>\n",
       "      <td>2019-01-03</td>\n",
       "      <td>29.581667</td>\n",
       "      <td>35.557625</td>\n",
       "      <td>57.481926</td>\n",
       "      <td>2447.89</td>\n",
       "      <td>60.071999</td>\n",
       "      <td>88.475723</td>\n",
       "      <td>-0.074507</td>\n",
       "      <td>-0.027977</td>\n",
       "      <td>-0.002191</td>\n",
       "      <td>-0.031472</td>\n",
       "      <td>-0.005142</td>\n",
       "      <td>-0.024757</td>\n",
       "    </tr>\n",
       "    <tr>\n",
       "      <th>2</th>\n",
       "      <td>2019-01-04</td>\n",
       "      <td>31.530159</td>\n",
       "      <td>36.369591</td>\n",
       "      <td>58.782818</td>\n",
       "      <td>2531.94</td>\n",
       "      <td>63.537998</td>\n",
       "      <td>89.028336</td>\n",
       "      <td>0.065868</td>\n",
       "      <td>0.022835</td>\n",
       "      <td>0.022631</td>\n",
       "      <td>0.057697</td>\n",
       "      <td>0.006246</td>\n",
       "      <td>0.034336</td>\n",
       "    </tr>\n",
       "    <tr>\n",
       "      <th>3</th>\n",
       "      <td>2019-01-07</td>\n",
       "      <td>32.425682</td>\n",
       "      <td>36.564133</td>\n",
       "      <td>58.860485</td>\n",
       "      <td>2549.69</td>\n",
       "      <td>66.991997</td>\n",
       "      <td>90.076393</td>\n",
       "      <td>0.028402</td>\n",
       "      <td>0.005349</td>\n",
       "      <td>0.001321</td>\n",
       "      <td>0.054361</td>\n",
       "      <td>0.011772</td>\n",
       "      <td>0.007010</td>\n",
       "    </tr>\n",
       "    <tr>\n",
       "      <th>4</th>\n",
       "      <td>2019-01-08</td>\n",
       "      <td>31.904110</td>\n",
       "      <td>36.733288</td>\n",
       "      <td>58.501282</td>\n",
       "      <td>2574.41</td>\n",
       "      <td>67.070000</td>\n",
       "      <td>90.705231</td>\n",
       "      <td>-0.016085</td>\n",
       "      <td>0.004626</td>\n",
       "      <td>-0.006103</td>\n",
       "      <td>0.001164</td>\n",
       "      <td>0.006981</td>\n",
       "      <td>0.009695</td>\n",
       "    </tr>\n",
       "    <tr>\n",
       "      <th>...</th>\n",
       "      <td>...</td>\n",
       "      <td>...</td>\n",
       "      <td>...</td>\n",
       "      <td>...</td>\n",
       "      <td>...</td>\n",
       "      <td>...</td>\n",
       "      <td>...</td>\n",
       "      <td>...</td>\n",
       "      <td>...</td>\n",
       "      <td>...</td>\n",
       "      <td>...</td>\n",
       "      <td>...</td>\n",
       "      <td>...</td>\n",
       "    </tr>\n",
       "    <tr>\n",
       "      <th>247</th>\n",
       "      <td>2019-12-24</td>\n",
       "      <td>29.072563</td>\n",
       "      <td>34.465500</td>\n",
       "      <td>58.700001</td>\n",
       "      <td>3223.38</td>\n",
       "      <td>85.050003</td>\n",
       "      <td>116.173569</td>\n",
       "      <td>-0.004096</td>\n",
       "      <td>-0.000763</td>\n",
       "      <td>-0.001701</td>\n",
       "      <td>0.014384</td>\n",
       "      <td>0.004033</td>\n",
       "      <td>-0.000195</td>\n",
       "    </tr>\n",
       "    <tr>\n",
       "      <th>248</th>\n",
       "      <td>2019-12-26</td>\n",
       "      <td>29.560759</td>\n",
       "      <td>34.544449</td>\n",
       "      <td>58.869999</td>\n",
       "      <td>3239.91</td>\n",
       "      <td>86.188004</td>\n",
       "      <td>116.183289</td>\n",
       "      <td>0.016792</td>\n",
       "      <td>0.002291</td>\n",
       "      <td>0.002896</td>\n",
       "      <td>0.013380</td>\n",
       "      <td>0.000084</td>\n",
       "      <td>0.005128</td>\n",
       "    </tr>\n",
       "    <tr>\n",
       "      <th>249</th>\n",
       "      <td>2019-12-27</td>\n",
       "      <td>28.335287</td>\n",
       "      <td>34.491821</td>\n",
       "      <td>59.090000</td>\n",
       "      <td>3240.02</td>\n",
       "      <td>86.075996</td>\n",
       "      <td>116.251328</td>\n",
       "      <td>-0.041456</td>\n",
       "      <td>-0.001523</td>\n",
       "      <td>0.003737</td>\n",
       "      <td>-0.001300</td>\n",
       "      <td>0.000586</td>\n",
       "      <td>0.000034</td>\n",
       "    </tr>\n",
       "    <tr>\n",
       "      <th>250</th>\n",
       "      <td>2019-12-30</td>\n",
       "      <td>28.195801</td>\n",
       "      <td>34.132160</td>\n",
       "      <td>58.680000</td>\n",
       "      <td>3221.29</td>\n",
       "      <td>82.940002</td>\n",
       "      <td>116.066643</td>\n",
       "      <td>-0.004923</td>\n",
       "      <td>-0.010427</td>\n",
       "      <td>-0.006939</td>\n",
       "      <td>-0.036433</td>\n",
       "      <td>-0.001589</td>\n",
       "      <td>-0.005781</td>\n",
       "    </tr>\n",
       "    <tr>\n",
       "      <th>251</th>\n",
       "      <td>2019-12-31</td>\n",
       "      <td>28.574404</td>\n",
       "      <td>34.369015</td>\n",
       "      <td>58.980000</td>\n",
       "      <td>3230.78</td>\n",
       "      <td>83.666000</td>\n",
       "      <td>115.522278</td>\n",
       "      <td>0.013428</td>\n",
       "      <td>0.006939</td>\n",
       "      <td>0.005112</td>\n",
       "      <td>0.008753</td>\n",
       "      <td>-0.004690</td>\n",
       "      <td>0.002946</td>\n",
       "    </tr>\n",
       "  </tbody>\n",
       "</table>\n",
       "<p>252 rows × 13 columns</p>\n",
       "</div>"
      ],
      "text/plain": [
       "           Date        aal        pfe        rds       sp       tsla  \\\n",
       "0    2019-01-02  31.963161  36.581043  57.608135  2510.03  62.023998   \n",
       "1    2019-01-03  29.581667  35.557625  57.481926  2447.89  60.071999   \n",
       "2    2019-01-04  31.530159  36.369591  58.782818  2531.94  63.537998   \n",
       "3    2019-01-07  32.425682  36.564133  58.860485  2549.69  66.991997   \n",
       "4    2019-01-08  31.904110  36.733288  58.501282  2574.41  67.070000   \n",
       "..          ...        ...        ...        ...      ...        ...   \n",
       "247  2019-12-24  29.072563  34.465500  58.700001  3223.38  85.050003   \n",
       "248  2019-12-26  29.560759  34.544449  58.869999  3239.91  86.188004   \n",
       "249  2019-12-27  28.335287  34.491821  59.090000  3240.02  86.075996   \n",
       "250  2019-12-30  28.195801  34.132160  58.680000  3221.29  82.940002   \n",
       "251  2019-12-31  28.574404  34.369015  58.980000  3230.78  83.666000   \n",
       "\n",
       "            wmt  aal_change  pfe_change  rds_change  tsla_change  wmt_change  \\\n",
       "0     88.933044         NaN         NaN         NaN          NaN         NaN   \n",
       "1     88.475723   -0.074507   -0.027977   -0.002191    -0.031472   -0.005142   \n",
       "2     89.028336    0.065868    0.022835    0.022631     0.057697    0.006246   \n",
       "3     90.076393    0.028402    0.005349    0.001321     0.054361    0.011772   \n",
       "4     90.705231   -0.016085    0.004626   -0.006103     0.001164    0.006981   \n",
       "..          ...         ...         ...         ...          ...         ...   \n",
       "247  116.173569   -0.004096   -0.000763   -0.001701     0.014384    0.004033   \n",
       "248  116.183289    0.016792    0.002291    0.002896     0.013380    0.000084   \n",
       "249  116.251328   -0.041456   -0.001523    0.003737    -0.001300    0.000586   \n",
       "250  116.066643   -0.004923   -0.010427   -0.006939    -0.036433   -0.001589   \n",
       "251  115.522278    0.013428    0.006939    0.005112     0.008753   -0.004690   \n",
       "\n",
       "     sp_change  \n",
       "0          NaN  \n",
       "1    -0.024757  \n",
       "2     0.034336  \n",
       "3     0.007010  \n",
       "4     0.009695  \n",
       "..         ...  \n",
       "247  -0.000195  \n",
       "248   0.005128  \n",
       "249   0.000034  \n",
       "250  -0.005781  \n",
       "251   0.002946  \n",
       "\n",
       "[252 rows x 13 columns]"
      ]
     },
     "execution_count": 17,
     "metadata": {},
     "output_type": "execute_result"
    }
   ],
   "source": [
    "data"
   ]
  },
  {
   "cell_type": "markdown",
   "id": "6dc56c1f",
   "metadata": {},
   "source": [
    "we will use matplotlib and seaborn two big data visualazation tools"
   ]
  },
  {
   "cell_type": "code",
   "execution_count": 18,
   "id": "ac7362b3",
   "metadata": {},
   "outputs": [],
   "source": [
    "import matplotlib.pyplot as plt\n",
    "import seaborn as sns\n",
    "import matplotlib.pyplot as plt\n",
    "plt.rcParams[\"figure.figsize\"] = (20,15)  #### for setting the size of plots"
   ]
  },
  {
   "cell_type": "code",
   "execution_count": 19,
   "id": "5ab85f47",
   "metadata": {},
   "outputs": [
    {
     "data": {
      "text/plain": [
       "Text(0.5, 1.0, 'sp % change')"
      ]
     },
     "execution_count": 19,
     "metadata": {},
     "output_type": "execute_result"
    },
    {
     "data": {
      "image/png": "[encoded data removed]",
      "text/plain": [
       "<Figure size 1440x1080 with 6 Axes>"
      ]
     },
     "metadata": {
      "needs_background": "light"
     },
     "output_type": "display_data"
    }
   ],
   "source": [
    "figure, axis = plt.subplots(3, 2)\n",
    "axis[0,0].hist(data[\"aal_change\"])\n",
    "axis[0, 0].set_title(\"aal % change\")\n",
    "\n",
    "axis[0,1].hist(data[\"pfe_change\"])\n",
    "axis[0, 1].set_title(\"pfe % change\")\n",
    "\n",
    "axis[1,0].hist(data[\"rds_change\"])\n",
    "axis[1, 0].set_title(\"rds % change\")\n",
    "\n",
    "axis[1,1].hist(data[\"tsla_change\"])\n",
    "axis[1, 1].set_title(\"tsla % change\")\n",
    "\n",
    "axis[2,0].hist(data[\"wmt_change\"])\n",
    "axis[2,0].set_title(\"wmt % change\")\n",
    "\n",
    "axis[2,1].hist(data[\"sp_change\"])\n",
    "axis[2, 1].set_title(\"sp % change\")\n",
    "\n"
   ]
  },
  {
   "cell_type": "code",
   "execution_count": 20,
   "id": "cea83b3b",
   "metadata": {},
   "outputs": [],
   "source": [
    "num_cols = [\"aal_change\",\"pfe_change\",\"rds_change\",\"tsla_change\",\"wmt_change\",\"sp_change\"]"
   ]
  },
  {
   "cell_type": "code",
   "execution_count": 21,
   "id": "63940227",
   "metadata": {},
   "outputs": [
    {
     "name": "stdout",
     "output_type": "stream",
     "text": [
      "This is the mean for aal_change: -0.00019505121873511069\n",
      "This is the standard deviation for aal_change: 0.022416643529316885\n",
      "This is the min for aal_change: -0.08441744193139245\n",
      "This is the variance for aal_change: 0.0005025059071204646\n",
      "This is the max for aal_change: 0.07058827725221106\n",
      "This is the mean for pfe_change: -0.00017642126752486468\n",
      "This is the standard deviation for pfe_change: 0.011983375565299409\n",
      "This is the min for pfe_change: -0.06417376273472009\n",
      "This is the variance for pfe_change: 0.00014360128993901492\n",
      "This is the max for pfe_change: 0.031368471765851114\n",
      "This is the mean for rds_change: 0.00015035192679433172\n",
      "This is the standard deviation for rds_change: 0.010614451053853936\n",
      "This is the min for rds_change: -0.0653522032970617\n",
      "This is the variance for rds_change: 0.00011266657117466094\n",
      "This is the max for rds_change: 0.03643383993887972\n",
      "This is the mean for tsla_change: 0.001667754820083009\n",
      "This is the standard deviation for tsla_change: 0.03081721229051187\n",
      "This is the min for tsla_change: -0.13613715130862458\n",
      "This is the variance for tsla_change: 0.000949700573358476\n",
      "This is the max for tsla_change: 0.17669231630492543\n",
      "This is the mean for wmt_change: 0.0010834478098966666\n",
      "This is the standard deviation for wmt_change: 0.009068895595863517\n",
      "This is the min for wmt_change: -0.032723973806605744\n",
      "This is the variance for wmt_change: 8.224486732867269e-05\n",
      "This is the max for wmt_change: 0.06111122976394223\n",
      "This is the mean for sp_change: 0.0010371290183399037\n",
      "This is the standard deviation for sp_change: 0.007872345885964522\n",
      "This is the min for sp_change: -0.02977780051499812\n",
      "This is the variance for sp_change: 6.197382974826253e-05\n",
      "This is the max for sp_change: 0.0343356931888279\n"
     ]
    }
   ],
   "source": [
    "for i in num_cols:\n",
    "    print(\"This is the mean for {}: {}\".format(i,data[i].mean()))\n",
    "    print(\"This is the standard deviation for {}: {}\".format(i,data[i].std()))\n",
    "    print(\"This is the min for {}: {}\".format(i,data[i].min()))\n",
    "    print(\"This is the variance for {}: {}\".format(i,data[i].var()))\n",
    "    print(\"This is the max for {}: {}\".format(i,data[i].max()))"
   ]
  },
  {
   "cell_type": "markdown",
   "id": "df22f065",
   "metadata": {},
   "source": [
    "bringing linea regression model, statmodels can also be used for linear regression"
   ]
  },
  {
   "cell_type": "code",
   "execution_count": 22,
   "id": "a7c6e6f6",
   "metadata": {},
   "outputs": [],
   "source": [
    "from sklearn.linear_model import LinearRegression"
   ]
  },
  {
   "cell_type": "code",
   "execution_count": 23,
   "id": "cd2a82a5",
   "metadata": {},
   "outputs": [],
   "source": [
    "lr = LinearRegression() ## initializing linear regression model"
   ]
  },
  {
   "cell_type": "markdown",
   "id": "c13fe366",
   "metadata": {},
   "source": [
    "fitting on all of them. The first rows are nan which we can't have unsure on how to fill this. I will go with filling it with the mean. This can be changed in the future. I'm not sure if professor discussed what to do with nans"
   ]
  },
  {
   "cell_type": "code",
   "execution_count": 24,
   "id": "c42ad8f7",
   "metadata": {},
   "outputs": [],
   "source": [
    "data[\"aal_change\"].fillna(data[\"aal_change\"].mean(),inplace=True)\n",
    "data[\"rds_change\"].fillna(data[\"rds_change\"].mean(),inplace=True)\n",
    "data[\"pfe_change\"].fillna(data[\"pfe_change\"].mean(),inplace=True)\n",
    "data[\"tsla_change\"].fillna(data[\"tsla_change\"].mean(),inplace=True)\n",
    "data[\"sp_change\"].fillna(data[\"sp_change\"].mean(),inplace=True)\n",
    "data[\"wmt_change\"].fillna(data[\"wmt_change\"].mean(),inplace=True)"
   ]
  },
  {
   "cell_type": "code",
   "execution_count": 25,
   "id": "9e243d7c",
   "metadata": {},
   "outputs": [
    {
     "data": {
      "text/plain": [
       "252"
      ]
     },
     "execution_count": 25,
     "metadata": {},
     "output_type": "execute_result"
    }
   ],
   "source": [
    "len(data[\"sp_change\"])"
   ]
  },
  {
   "cell_type": "markdown",
   "id": "101fd99e",
   "metadata": {},
   "source": [
    "We need to reshape the pandas series to a certain format so we can fit the regression"
   ]
  },
  {
   "cell_type": "code",
   "execution_count": 26,
   "id": "de792f65",
   "metadata": {},
   "outputs": [],
   "source": [
    "aal_vs_sp= lr.fit(data[\"aal_change\"].values.reshape(1, -1),data[\"sp_change\"].values.reshape(1, -1))\n",
    "pfe_vs_sp= lr.fit(data[\"pfe_change\"].values.reshape(-1, 1),data[\"sp_change\"].values.reshape(-1, 1))\n",
    "rde_vs_sp= lr.fit(data[\"rds_change\"].values.reshape(-1, 1),data[\"sp_change\"].values.reshape(-1, 1))\n",
    "wmt_vs_sp= lr.fit(data[\"wmt_change\"].values.reshape(-1, 1),data[\"sp_change\"].values.reshape(-1, 1))\n",
    "tsla_vs_sp= lr.fit(data[\"tsla_change\"].values.reshape(-1, 1),data[\"sp_change\"].values.reshape(-1, 1))"
   ]
  },
  {
   "cell_type": "markdown",
   "id": "8c4f9c99",
   "metadata": {},
   "source": [
    "plotting the samples vs linear model. y = mx+b\n",
    "From the text it not clear what she wants us to plot. I probably missed something in class.\n",
    "Does she want us to plot the predicted value vs the sample?\n",
    "\n",
    "Alternative method is to use \n",
    "seaborn plot method and plot using lmplot. "
   ]
  },
  {
   "cell_type": "code",
   "execution_count": 27,
   "id": "e92a7e6e",
   "metadata": {},
   "outputs": [
    {
     "data": {
      "text/plain": [
       "array([0.08601372])"
      ]
     },
     "execution_count": 27,
     "metadata": {},
     "output_type": "execute_result"
    }
   ],
   "source": [
    "aal_vs_sp.coef_[0]"
   ]
  },
  {
   "cell_type": "code",
   "execution_count": 28,
   "id": "b4493eb2",
   "metadata": {},
   "outputs": [
    {
     "data": {
      "text/plain": [
       "Text(0, 0.5, 'sp500')"
      ]
     },
     "execution_count": 28,
     "metadata": {},
     "output_type": "execute_result"
    },
    {
     "data": {
      "image/png": "[encoded data removed]",
      "text/plain": [
       "<Figure size 1440x1080 with 6 Axes>"
      ]
     },
     "metadata": {
      "needs_background": "light"
     },
     "output_type": "display_data"
    }
   ],
   "source": [
    "figure, axis = plt.subplots(3, 2)\n",
    "\n",
    "axis[0,0].scatter(data[\"aal_change\"],(aal_vs_sp.coef_[0]*data[\"aal_change\"] + aal_vs_sp.intercept_))\n",
    "axis[0,0].set_xlabel(\"aal\")\n",
    "axis[0,0].set_ylabel(\"sp500\")\n",
    "\n",
    "\n",
    "axis[0,1].scatter(data[\"pfe_change\"],(pfe_vs_sp.coef_[0]*data[\"pfe_change\"] + pfe_vs_sp.intercept_))\n",
    "axis[0,1].set_xlabel(\"pfe\")\n",
    "axis[0,1].set_ylabel(\"sp500\")\n",
    "\n",
    "\n",
    "axis[1,1].scatter(data[\"rds_change\"],(rde_vs_sp.coef_[0]*data[\"rds_change\"] + rde_vs_sp.intercept_))\n",
    "axis[1,1].set_xlabel(\"rds\")\n",
    "axis[1,1].set_ylabel(\"sp500\")\n",
    "\n",
    "axis[2,0].scatter(data[\"wmt_change\"],(wmt_vs_sp.coef_[0]*data[\"wmt_change\"] + wmt_vs_sp.intercept_))\n",
    "axis[2,0].set_xlabel(\"wmt\")\n",
    "axis[2,0].set_ylabel(\"sp500\")\n",
    "\n",
    "axis[2,1].scatter(data[\"tsla_change\"],(tsla_vs_sp.coef_[0]*data[\"tsla_change\"] + tsla_vs_sp.intercept_))\n",
    "axis[2,1].set_xlabel(\"tsla\")\n",
    "axis[2,1].set_ylabel(\"sp500\")"
   ]
  },
  {
   "cell_type": "markdown",
   "id": "235cd9b5",
   "metadata": {},
   "source": [
    "Now we need to get the metrics we import the modules"
   ]
  },
  {
   "cell_type": "markdown",
   "id": "397a83ca",
   "metadata": {},
   "source": [
    "r2score and mse will be computed from predicted values and actual valus of sp500 based on linear model. Does she want us to split up data in train test split. I'm not sure.\n",
    "\n",
    "(actual,pred)"
   ]
  },
  {
   "cell_type": "code",
   "execution_count": 29,
   "id": "f0061263",
   "metadata": {},
   "outputs": [],
   "source": [
    "from sklearn.metrics import r2_score,mean_squared_error"
   ]
  },
  {
   "cell_type": "code",
   "execution_count": 30,
   "id": "89d10178",
   "metadata": {},
   "outputs": [],
   "source": [
    "### getting all the predictions to perform r2 and mse calculations\n",
    "aal_pred = aal_vs_sp.predict(data[\"aal_change\"].values.reshape(-1, 1))\n",
    "rds_pred = rde_vs_sp.predict(data[\"rds_change\"].values.reshape(-1, 1))\n",
    "tsla_pred = tsla_vs_sp.predict(data[\"tsla_change\"].values.reshape(-1, 1))\n",
    "pfe_pred = pfe_vs_sp.predict(data[\"pfe_change\"].values.reshape(-1, 1))\n",
    "wmt_pred = wmt_vs_sp.predict(data[\"wmt_change\"].values.reshape(-1, 1))\n",
    "\n"
   ]
  },
  {
   "cell_type": "code",
   "execution_count": 31,
   "id": "ff5c09ea",
   "metadata": {},
   "outputs": [
    {
     "name": "stdout",
     "output_type": "stream",
     "text": [
      "coef for aal vs sp is: [0.08601372], intercept: 0.0008936792174748231\n",
      "r2score for aal vs sp is 0.21179985915781807\n",
      "mse for aal vs sp is 4.84601005318551e-05\n",
      "coef for rds vs sp is: [0.08601372], intercept: 0.0008936792174748231\n",
      "r2score for rds vs sp is 0.11164973896667285\n",
      "mse for rds vs sp is 5.4617527613198413e-05\n",
      "coef for pfe vs sp is: [0.08601372], intercept: 0.0008936792174748231\n",
      "r2score for pfe vs sp is 0.1111480661998423\n",
      "mse for pfe vs sp is 5.464837144518343e-05\n",
      "coef for tsla vs sp is: [0.08601372], intercept: 0.0008936792174748231\n",
      "r2score for tsla vs sp is 0.11337410087100319\n",
      "mse for tsla vs sp is 5.451151043950461e-05\n",
      "coef for wmt vs sp is: [0.08601372], intercept: 0.0008936792174748231\n",
      "r2score for wmt vs sp is 0.07574638910332909\n",
      "mse for wmt vs sp is 5.6824936434451564e-05\n"
     ]
    }
   ],
   "source": [
    "print(\"coef for aal vs sp is: {}, intercept: {}\".format(aal_vs_sp.coef_[0],aal_vs_sp.intercept_[0]))\n",
    "print(\"r2score for aal vs sp is {}\".format(r2_score(data[\"sp_change\"],aal_pred)))\n",
    "print(\"mse for aal vs sp is {}\".format(mean_squared_error(data[\"sp_change\"],aal_pred)))\n",
    "\n",
    "\n",
    "print(\"coef for rds vs sp is: {}, intercept: {}\".format(rde_vs_sp.coef_[0],rde_vs_sp.intercept_[0]))\n",
    "print(\"r2score for rds vs sp is {}\".format(r2_score(data[\"sp_change\"],rds_pred)))\n",
    "print(\"mse for rds vs sp is {}\".format(mean_squared_error(data[\"sp_change\"],rds_pred)))\n",
    "\n",
    "\n",
    "print(\"coef for pfe vs sp is: {}, intercept: {}\".format(pfe_vs_sp.coef_[0],pfe_vs_sp.intercept_[0]))\n",
    "print(\"r2score for pfe vs sp is {}\".format(r2_score(data[\"sp_change\"],pfe_pred)))\n",
    "print(\"mse for pfe vs sp is {}\".format(mean_squared_error(data[\"sp_change\"],pfe_pred)))\n",
    "\n",
    "\n",
    "print(\"coef for tsla vs sp is: {}, intercept: {}\".format(tsla_vs_sp.coef_[0],tsla_vs_sp.intercept_[0]))\n",
    "print(\"r2score for tsla vs sp is {}\".format(r2_score(data[\"sp_change\"],tsla_pred)))\n",
    "print(\"mse for tsla vs sp is {}\".format(mean_squared_error(data[\"sp_change\"],tsla_pred)))\n",
    "\n",
    "print(\"coef for wmt vs sp is: {}, intercept: {}\".format(wmt_vs_sp.coef_[0],wmt_vs_sp.intercept_[0]))\n",
    "print(\"r2score for wmt vs sp is {}\".format(r2_score(data[\"sp_change\"],wmt_pred)))\n",
    "print(\"mse for wmt vs sp is {}\".format(mean_squared_error(data[\"sp_change\"],wmt_pred)))"
   ]
  },
  {
   "cell_type": "markdown",
   "id": "49aec7af",
   "metadata": {},
   "source": [
    "The most correlated and least correlated assets will be the ones with the highest and lowest r^2 respectively.\n",
    "\n",
    "So the highest corre;ated is aal and the least correlated is wmt"
   ]
  }
 ],
 "metadata": {
  "kernelspec": {
   "display_name": "Python 3 (ipykernel)",
   "language": "python",
   "name": "python3"
  },
  "language_info": {
   "codemirror_mode": {
    "name": "ipython",
    "version": 3
   },
   "file_extension": ".py",
   "mimetype": "text/x-python",
   "name": "python",
   "nbconvert_exporter": "python",
   "pygments_lexer": "ipython3",
   "version": "3.9.7"
  }
 },
 "nbformat": 4,
 "nbformat_minor": 5
}
